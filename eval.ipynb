{
 "cells": [
  {
   "cell_type": "code",
   "execution_count": 3,
   "metadata": {},
   "outputs": [],
   "source": [
    "import json\n",
    "from transformers import pipeline\n",
    "import torch"
   ]
  },
  {
   "cell_type": "code",
   "execution_count": 4,
   "metadata": {},
   "outputs": [],
   "source": [
    "def load_model():\n",
    "    generator = pipeline(\n",
    "        \"text-generation\",\n",
    "        model=\"runs/exp_1/checkpoint-2436\",\n",
    "        device=torch.device(\"cuda:0\"),\n",
    "    )\n",
    "    return generator\n",
    "\n",
    "\n",
    "PROMPT_DICT = {\n",
    "    \"prompt_input\": (\n",
    "        \"Below is an instruction that describes a task, paired with an input that provides further context. \"\n",
    "        \"Write a response that appropriately completes the request.\\n\\n\"\n",
    "        \"### Instruction:\\n{instruction}\\n\\n### Input:\\n{input}\\n\\n### Response:\"\n",
    "    ),\n",
    "    \"prompt_no_input\": (\n",
    "        \"Below is an instruction that describes a task. \"\n",
    "        \"Write a response that appropriately completes the request.\\n\\n\"\n",
    "        \"### Instruction:\\n{instruction}\\n\\n### Response:\"\n",
    "    ),\n",
    "}\n",
    "\n",
    "\n",
    "def run(generator, prompt):\n",
    "    out = generator(\n",
    "        prompt, max_length=len(prompt.split(\" \")) + 400, num_return_sequences=5, temperature=0.5\n",
    "    )\n",
    "\n",
    "    return out"
   ]
  },
  {
   "cell_type": "code",
   "execution_count": 63,
   "metadata": {},
   "outputs": [],
   "source": [
    "generator = load_model()"
   ]
  },
  {
   "cell_type": "code",
   "execution_count": 7,
   "metadata": {},
   "outputs": [],
   "source": [
    "new_instruction = {\n",
    "    \"Simplify the following piece of text in the {lang} language\",\n",
    "    \"ELI5 in the {lang} language\",\n",
    "    \"Simplify the following article conceptually in the {lang} language\",\n",
    "}\n",
    "\n",
    "\n",
    "english_passages = [\n",
    "    \"The burgeoning field of astrophysics has given rise to numerous remarkable discoveries, elucidating the mysteries of the cosmos and the celestial bodies that populate it. Astrophysicists have ascertained that the universe is approximately 13.8 billion years old and is continually expanding, a phenomenon corroborated by the redshift of light from distant galaxies. Moreover, the existence of dark matter and dark energy, which constitute roughly 95% of the total mass-energy content in the universe, has been posited based on the gravitational effects observed on visible matter and the expansion rate of the universe.\",    \n",
    "    \"Renowned British naturalist and broadcaster Sir David Attenborough has spent the better part of his life advocating for the preservation of Earth's biodiversity, educating millions about the intricate relationships between various species and their ecosystems. Through his riveting television documentaries, Attenborough has chronicled the breathtaking beauty of our planet, as well as the devastating consequences of human activities on the environment. His passionate narration and unyielding commitment to conservation have inspired countless individuals to take action in preserving the natural world for future generations.\"\n",
    "]\n",
    "\n",
    "arabic_passages = [\n",
    "    \"أدى النمو المتزايد في مجال علم الفلك إلى العديد من الاكتشافات الرائعة التي توضح أسرار الكون والأجرام السماوية التي تملأه. حدد علماء الفلك أن عمر الكون يبلغ تقريبا 13.8 مليار عام ويتوسع باستمرار، وهو ظاهرة تؤكدها الانزياح الأحمر للضوء الصادر عن المجرات البعيدة. علاوة على ذلك، تم افتراض وجود المادة المظلمة والطاقة المظلمة، التي تشكل حوالي 95٪ من محتوى الكتلة والطاقة الإجمالي في الكون، بناءً على التأثيرات الجاذبة الملاحظة على المادة المرئية ومعدل توسع الكون.\",\n",
    "    \n",
    "    \"أمضى العالم البريطاني المشهور ومذيع البرامج الوثائقية السير ديفيد أتنبره جزءًا كبيرًا من حياته في الدعوة إلى الحفاظ على التنوع البيولوجي للأرض، وتوعية الملايين بالعلاقات المعقدة بين الأنواع المختلفة والنظم البيئية التي تعيش فيها. من خلال برامجه الوثائقية المثيرة على التلفزيون،\"\n",
    "]\n",
    "\n",
    "\n",
    "all_passages = english_passages + arabic_passages\n",
    "\n",
    "all_data = []\n",
    "for example in all_passages:\n",
    "    for instruction in new_instruction:\n",
    "        all_data.append({\"instruction\": instruction, \"output\": \"\", \"input\": example})"
   ]
  },
  {
   "cell_type": "code",
   "execution_count": 8,
   "metadata": {},
   "outputs": [
    {
     "data": {
      "text/plain": [
       "[{'instruction': 'Simplify the following article conceptually in the {lang} language',\n",
       "  'output': '',\n",
       "  'input': 'The burgeoning field of astrophysics has given rise to numerous remarkable discoveries, elucidating the mysteries of the cosmos and the celestial bodies that populate it. Astrophysicists have ascertained that the universe is approximately 13.8 billion years old and is continually expanding, a phenomenon corroborated by the redshift of light from distant galaxies. Moreover, the existence of dark matter and dark energy, which constitute roughly 95% of the total mass-energy content in the universe, has been posited based on the gravitational effects observed on visible matter and the expansion rate of the universe.'},\n",
       " {'instruction': 'ELI5 in the {lang} language',\n",
       "  'output': '',\n",
       "  'input': 'The burgeoning field of astrophysics has given rise to numerous remarkable discoveries, elucidating the mysteries of the cosmos and the celestial bodies that populate it. Astrophysicists have ascertained that the universe is approximately 13.8 billion years old and is continually expanding, a phenomenon corroborated by the redshift of light from distant galaxies. Moreover, the existence of dark matter and dark energy, which constitute roughly 95% of the total mass-energy content in the universe, has been posited based on the gravitational effects observed on visible matter and the expansion rate of the universe.'},\n",
       " {'instruction': 'Simplify the following piece of text in the {lang} language',\n",
       "  'output': '',\n",
       "  'input': 'The burgeoning field of astrophysics has given rise to numerous remarkable discoveries, elucidating the mysteries of the cosmos and the celestial bodies that populate it. Astrophysicists have ascertained that the universe is approximately 13.8 billion years old and is continually expanding, a phenomenon corroborated by the redshift of light from distant galaxies. Moreover, the existence of dark matter and dark energy, which constitute roughly 95% of the total mass-energy content in the universe, has been posited based on the gravitational effects observed on visible matter and the expansion rate of the universe.'},\n",
       " {'instruction': 'Simplify the following article conceptually in the {lang} language',\n",
       "  'output': '',\n",
       "  'input': \"Renowned British naturalist and broadcaster Sir David Attenborough has spent the better part of his life advocating for the preservation of Earth's biodiversity, educating millions about the intricate relationships between various species and their ecosystems. Through his riveting television documentaries, Attenborough has chronicled the breathtaking beauty of our planet, as well as the devastating consequences of human activities on the environment. His passionate narration and unyielding commitment to conservation have inspired countless individuals to take action in preserving the natural world for future generations.\"},\n",
       " {'instruction': 'ELI5 in the {lang} language',\n",
       "  'output': '',\n",
       "  'input': \"Renowned British naturalist and broadcaster Sir David Attenborough has spent the better part of his life advocating for the preservation of Earth's biodiversity, educating millions about the intricate relationships between various species and their ecosystems. Through his riveting television documentaries, Attenborough has chronicled the breathtaking beauty of our planet, as well as the devastating consequences of human activities on the environment. His passionate narration and unyielding commitment to conservation have inspired countless individuals to take action in preserving the natural world for future generations.\"},\n",
       " {'instruction': 'Simplify the following piece of text in the {lang} language',\n",
       "  'output': '',\n",
       "  'input': \"Renowned British naturalist and broadcaster Sir David Attenborough has spent the better part of his life advocating for the preservation of Earth's biodiversity, educating millions about the intricate relationships between various species and their ecosystems. Through his riveting television documentaries, Attenborough has chronicled the breathtaking beauty of our planet, as well as the devastating consequences of human activities on the environment. His passionate narration and unyielding commitment to conservation have inspired countless individuals to take action in preserving the natural world for future generations.\"},\n",
       " {'instruction': 'Simplify the following article conceptually in the {lang} language',\n",
       "  'output': '',\n",
       "  'input': 'أدى النمو المتزايد في مجال علم الفلك إلى العديد من الاكتشافات الرائعة التي توضح أسرار الكون والأجرام السماوية التي تملأه. حدد علماء الفلك أن عمر الكون يبلغ تقريبا 13.8 مليار عام ويتوسع باستمرار، وهو ظاهرة تؤكدها الانزياح الأحمر للضوء الصادر عن المجرات البعيدة. علاوة على ذلك، تم افتراض وجود المادة المظلمة والطاقة المظلمة، التي تشكل حوالي 95٪ من محتوى الكتلة والطاقة الإجمالي في الكون، بناءً على التأثيرات الجاذبة الملاحظة على المادة المرئية ومعدل توسع الكون.'},\n",
       " {'instruction': 'ELI5 in the {lang} language',\n",
       "  'output': '',\n",
       "  'input': 'أدى النمو المتزايد في مجال علم الفلك إلى العديد من الاكتشافات الرائعة التي توضح أسرار الكون والأجرام السماوية التي تملأه. حدد علماء الفلك أن عمر الكون يبلغ تقريبا 13.8 مليار عام ويتوسع باستمرار، وهو ظاهرة تؤكدها الانزياح الأحمر للضوء الصادر عن المجرات البعيدة. علاوة على ذلك، تم افتراض وجود المادة المظلمة والطاقة المظلمة، التي تشكل حوالي 95٪ من محتوى الكتلة والطاقة الإجمالي في الكون، بناءً على التأثيرات الجاذبة الملاحظة على المادة المرئية ومعدل توسع الكون.'},\n",
       " {'instruction': 'Simplify the following piece of text in the {lang} language',\n",
       "  'output': '',\n",
       "  'input': 'أدى النمو المتزايد في مجال علم الفلك إلى العديد من الاكتشافات الرائعة التي توضح أسرار الكون والأجرام السماوية التي تملأه. حدد علماء الفلك أن عمر الكون يبلغ تقريبا 13.8 مليار عام ويتوسع باستمرار، وهو ظاهرة تؤكدها الانزياح الأحمر للضوء الصادر عن المجرات البعيدة. علاوة على ذلك، تم افتراض وجود المادة المظلمة والطاقة المظلمة، التي تشكل حوالي 95٪ من محتوى الكتلة والطاقة الإجمالي في الكون، بناءً على التأثيرات الجاذبة الملاحظة على المادة المرئية ومعدل توسع الكون.'},\n",
       " {'instruction': 'Simplify the following article conceptually in the {lang} language',\n",
       "  'output': '',\n",
       "  'input': 'أمضى العالم البريطاني المشهور ومذيع البرامج الوثائقية السير ديفيد أتنبره جزءًا كبيرًا من حياته في الدعوة إلى الحفاظ على التنوع البيولوجي للأرض، وتوعية الملايين بالعلاقات المعقدة بين الأنواع المختلفة والنظم البيئية التي تعيش فيها. من خلال برامجه الوثائقية المثيرة على التلفزيون،'},\n",
       " {'instruction': 'ELI5 in the {lang} language',\n",
       "  'output': '',\n",
       "  'input': 'أمضى العالم البريطاني المشهور ومذيع البرامج الوثائقية السير ديفيد أتنبره جزءًا كبيرًا من حياته في الدعوة إلى الحفاظ على التنوع البيولوجي للأرض، وتوعية الملايين بالعلاقات المعقدة بين الأنواع المختلفة والنظم البيئية التي تعيش فيها. من خلال برامجه الوثائقية المثيرة على التلفزيون،'},\n",
       " {'instruction': 'Simplify the following piece of text in the {lang} language',\n",
       "  'output': '',\n",
       "  'input': 'أمضى العالم البريطاني المشهور ومذيع البرامج الوثائقية السير ديفيد أتنبره جزءًا كبيرًا من حياته في الدعوة إلى الحفاظ على التنوع البيولوجي للأرض، وتوعية الملايين بالعلاقات المعقدة بين الأنواع المختلفة والنظم البيئية التي تعيش فيها. من خلال برامجه الوثائقية المثيرة على التلفزيون،'}]"
      ]
     },
     "execution_count": 8,
     "metadata": {},
     "output_type": "execute_result"
    }
   ],
   "source": [
    "all_data"
   ]
  },
  {
   "cell_type": "code",
   "execution_count": 9,
   "metadata": {},
   "outputs": [
    {
     "name": "stdout",
     "output_type": "stream",
     "text": [
      "{'instruction': 'Simplify the following article conceptually in the {lang} language', 'output': '', 'input': 'The burgeoning field of astrophysics has given rise to numerous remarkable discoveries, elucidating the mysteries of the cosmos and the celestial bodies that populate it. Astrophysicists have ascertained that the universe is approximately 13.8 billion years old and is continually expanding, a phenomenon corroborated by the redshift of light from distant galaxies. Moreover, the existence of dark matter and dark energy, which constitute roughly 95% of the total mass-energy content in the universe, has been posited based on the gravitational effects observed on visible matter and the expansion rate of the universe.'}\n",
      "{'instruction': 'ELI5 in the {lang} language', 'output': '', 'input': 'The burgeoning field of astrophysics has given rise to numerous remarkable discoveries, elucidating the mysteries of the cosmos and the celestial bodies that populate it. Astrophysicists have ascertained that the universe is approximately 13.8 billion years old and is continually expanding, a phenomenon corroborated by the redshift of light from distant galaxies. Moreover, the existence of dark matter and dark energy, which constitute roughly 95% of the total mass-energy content in the universe, has been posited based on the gravitational effects observed on visible matter and the expansion rate of the universe.'}\n",
      "{'instruction': 'Simplify the following piece of text in the {lang} language', 'output': '', 'input': 'The burgeoning field of astrophysics has given rise to numerous remarkable discoveries, elucidating the mysteries of the cosmos and the celestial bodies that populate it. Astrophysicists have ascertained that the universe is approximately 13.8 billion years old and is continually expanding, a phenomenon corroborated by the redshift of light from distant galaxies. Moreover, the existence of dark matter and dark energy, which constitute roughly 95% of the total mass-energy content in the universe, has been posited based on the gravitational effects observed on visible matter and the expansion rate of the universe.'}\n",
      "{'instruction': 'Simplify the following article conceptually in the {lang} language', 'output': '', 'input': \"Renowned British naturalist and broadcaster Sir David Attenborough has spent the better part of his life advocating for the preservation of Earth's biodiversity, educating millions about the intricate relationships between various species and their ecosystems. Through his riveting television documentaries, Attenborough has chronicled the breathtaking beauty of our planet, as well as the devastating consequences of human activities on the environment. His passionate narration and unyielding commitment to conservation have inspired countless individuals to take action in preserving the natural world for future generations.\"}\n",
      "{'instruction': 'ELI5 in the {lang} language', 'output': '', 'input': \"Renowned British naturalist and broadcaster Sir David Attenborough has spent the better part of his life advocating for the preservation of Earth's biodiversity, educating millions about the intricate relationships between various species and their ecosystems. Through his riveting television documentaries, Attenborough has chronicled the breathtaking beauty of our planet, as well as the devastating consequences of human activities on the environment. His passionate narration and unyielding commitment to conservation have inspired countless individuals to take action in preserving the natural world for future generations.\"}\n",
      "{'instruction': 'Simplify the following piece of text in the {lang} language', 'output': '', 'input': \"Renowned British naturalist and broadcaster Sir David Attenborough has spent the better part of his life advocating for the preservation of Earth's biodiversity, educating millions about the intricate relationships between various species and their ecosystems. Through his riveting television documentaries, Attenborough has chronicled the breathtaking beauty of our planet, as well as the devastating consequences of human activities on the environment. His passionate narration and unyielding commitment to conservation have inspired countless individuals to take action in preserving the natural world for future generations.\"}\n",
      "{'instruction': 'Simplify the following article conceptually in the {lang} language', 'output': '', 'input': 'أدى النمو المتزايد في مجال علم الفلك إلى العديد من الاكتشافات الرائعة التي توضح أسرار الكون والأجرام السماوية التي تملأه. حدد علماء الفلك أن عمر الكون يبلغ تقريبا 13.8 مليار عام ويتوسع باستمرار، وهو ظاهرة تؤكدها الانزياح الأحمر للضوء الصادر عن المجرات البعيدة. علاوة على ذلك، تم افتراض وجود المادة المظلمة والطاقة المظلمة، التي تشكل حوالي 95٪ من محتوى الكتلة والطاقة الإجمالي في الكون، بناءً على التأثيرات الجاذبة الملاحظة على المادة المرئية ومعدل توسع الكون.'}\n",
      "{'instruction': 'ELI5 in the {lang} language', 'output': '', 'input': 'أدى النمو المتزايد في مجال علم الفلك إلى العديد من الاكتشافات الرائعة التي توضح أسرار الكون والأجرام السماوية التي تملأه. حدد علماء الفلك أن عمر الكون يبلغ تقريبا 13.8 مليار عام ويتوسع باستمرار، وهو ظاهرة تؤكدها الانزياح الأحمر للضوء الصادر عن المجرات البعيدة. علاوة على ذلك، تم افتراض وجود المادة المظلمة والطاقة المظلمة، التي تشكل حوالي 95٪ من محتوى الكتلة والطاقة الإجمالي في الكون، بناءً على التأثيرات الجاذبة الملاحظة على المادة المرئية ومعدل توسع الكون.'}\n",
      "{'instruction': 'Simplify the following piece of text in the {lang} language', 'output': '', 'input': 'أدى النمو المتزايد في مجال علم الفلك إلى العديد من الاكتشافات الرائعة التي توضح أسرار الكون والأجرام السماوية التي تملأه. حدد علماء الفلك أن عمر الكون يبلغ تقريبا 13.8 مليار عام ويتوسع باستمرار، وهو ظاهرة تؤكدها الانزياح الأحمر للضوء الصادر عن المجرات البعيدة. علاوة على ذلك، تم افتراض وجود المادة المظلمة والطاقة المظلمة، التي تشكل حوالي 95٪ من محتوى الكتلة والطاقة الإجمالي في الكون، بناءً على التأثيرات الجاذبة الملاحظة على المادة المرئية ومعدل توسع الكون.'}\n",
      "{'instruction': 'Simplify the following article conceptually in the {lang} language', 'output': '', 'input': 'أمضى العالم البريطاني المشهور ومذيع البرامج الوثائقية السير ديفيد أتنبره جزءًا كبيرًا من حياته في الدعوة إلى الحفاظ على التنوع البيولوجي للأرض، وتوعية الملايين بالعلاقات المعقدة بين الأنواع المختلفة والنظم البيئية التي تعيش فيها. من خلال برامجه الوثائقية المثيرة على التلفزيون،'}\n",
      "{'instruction': 'ELI5 in the {lang} language', 'output': '', 'input': 'أمضى العالم البريطاني المشهور ومذيع البرامج الوثائقية السير ديفيد أتنبره جزءًا كبيرًا من حياته في الدعوة إلى الحفاظ على التنوع البيولوجي للأرض، وتوعية الملايين بالعلاقات المعقدة بين الأنواع المختلفة والنظم البيئية التي تعيش فيها. من خلال برامجه الوثائقية المثيرة على التلفزيون،'}\n",
      "{'instruction': 'Simplify the following piece of text in the {lang} language', 'output': '', 'input': 'أمضى العالم البريطاني المشهور ومذيع البرامج الوثائقية السير ديفيد أتنبره جزءًا كبيرًا من حياته في الدعوة إلى الحفاظ على التنوع البيولوجي للأرض، وتوعية الملايين بالعلاقات المعقدة بين الأنواع المختلفة والنظم البيئية التي تعيش فيها. من خلال برامجه الوثائقية المثيرة على التلفزيون،'}\n"
     ]
    }
   ],
   "source": [
    "from copy import deepcopy\n",
    "\n",
    "sources = []\n",
    "for example in all_data:\n",
    "    prompt_input, prompt_no_input = deepcopy(PROMPT_DICT[\"prompt_input\"]), deepcopy(PROMPT_DICT[\"prompt_no_input\"])\n",
    "    if example.get(\"input\", \"\") != \"\":\n",
    "        print(example)\n",
    "        sources.append(prompt_input.format_map(example))\n",
    "    else:\n",
    "        sources.append(prompt_no_input.format_map(example))"
   ]
  },
  {
   "cell_type": "code",
   "execution_count": 78,
   "metadata": {},
   "outputs": [
    {
     "name": "stderr",
     "output_type": "stream",
     "text": [
      "Setting `pad_token_id` to `eos_token_id`:50256 for open-end generation.\n",
      "Setting `pad_token_id` to `eos_token_id`:50256 for open-end generation.\n",
      "Setting `pad_token_id` to `eos_token_id`:50256 for open-end generation.\n",
      "Setting `pad_token_id` to `eos_token_id`:50256 for open-end generation.\n",
      "Setting `pad_token_id` to `eos_token_id`:50256 for open-end generation.\n",
      "Setting `pad_token_id` to `eos_token_id`:50256 for open-end generation.\n",
      "Setting `pad_token_id` to `eos_token_id`:50256 for open-end generation.\n",
      "Setting `pad_token_id` to `eos_token_id`:50256 for open-end generation.\n",
      "Setting `pad_token_id` to `eos_token_id`:50256 for open-end generation.\n",
      "Setting `pad_token_id` to `eos_token_id`:50256 for open-end generation.\n",
      "Setting `pad_token_id` to `eos_token_id`:50256 for open-end generation.\n",
      "Setting `pad_token_id` to `eos_token_id`:50256 for open-end generation.\n",
      "Setting `pad_token_id` to `eos_token_id`:50256 for open-end generation.\n",
      "Setting `pad_token_id` to `eos_token_id`:50256 for open-end generation.\n",
      "Setting `pad_token_id` to `eos_token_id`:50256 for open-end generation.\n",
      "Setting `pad_token_id` to `eos_token_id`:50256 for open-end generation.\n",
      "Setting `pad_token_id` to `eos_token_id`:50256 for open-end generation.\n",
      "Setting `pad_token_id` to `eos_token_id`:50256 for open-end generation.\n",
      "Setting `pad_token_id` to `eos_token_id`:50256 for open-end generation.\n",
      "Setting `pad_token_id` to `eos_token_id`:50256 for open-end generation.\n",
      "Setting `pad_token_id` to `eos_token_id`:50256 for open-end generation.\n",
      "Setting `pad_token_id` to `eos_token_id`:50256 for open-end generation.\n",
      "Setting `pad_token_id` to `eos_token_id`:50256 for open-end generation.\n"
     ]
    }
   ],
   "source": [
    "outputs = []\n",
    "for idx, source in enumerate(sources):\n",
    "    out = run(generator, source)\n",
    "    exa = all_data[idx]\n",
    "    to_out = {}\n",
    "    to_out.update(exa)\n",
    "    to_out[\"output\"] = [i['generated_text'].replace(source, \"\") for i in out]\n",
    "    outputs.append(to_out)"
   ]
  },
  {
   "cell_type": "code",
   "execution_count": 70,
   "metadata": {},
   "outputs": [
    {
     "name": "stdout",
     "output_type": "stream",
     "text": [
      "Below is an instruction that describes a task, paired with an input that provides further context. Write a response that appropriately completes the request.\n",
      "\n",
      "### Instruction:\n",
      "Summarize the main ideas of this chapter in a single sentence.\n",
      "\n",
      "### Input:\n",
      "There was music from my neighbor's house through the summer nights. In his blue gardens men and girls came and went like moths among the whisperings and the champagne and the stars. At high tide in the afternoon I watched his guests diving from the tower of his raft or taking the sun on the hot sand of his beach while his two motor-boats slit the waters of the Sound, drawing aquaplanes over cataracts of foam. On week-ends his Rolls-Royce became an omnibus, bearing parties to and from the city, between nine in the morning and long past midnight, while his station wagon scampered like a brisk yellow bug to meet all trains. And on Mondays eight servants including an extra gardener toiled all day with mops and scrubbing-brushes and hammers and garden-shears, repairing the ravages of the night before.\n",
      "\n",
      "### Response:My neighbor's music filled the summer nights with the rhythm of a cheerful crowd, the sound of a lively boat, and the sound of a gentle breeze.\n"
     ]
    }
   ],
   "source": [
    "print(outputs[2][3]['generated_text'])"
   ]
  },
  {
   "cell_type": "code",
   "execution_count": 79,
   "metadata": {},
   "outputs": [],
   "source": [
    "with open(\"eval_outputs.json\", \"w\") as f:\n",
    "    json.dump(outputs, f, indent=4)"
   ]
  },
  {
   "cell_type": "code",
   "execution_count": 80,
   "metadata": {},
   "outputs": [],
   "source": [
    "import json\n",
    "\n",
    "with open(\"/home/osama/projects/nlp702/assignment_2/stanford_alpaca/alpaca_data.json\", \"r\") as f:\n",
    "    data = json.load(f)"
   ]
  },
  {
   "cell_type": "code",
   "execution_count": 83,
   "metadata": {},
   "outputs": [
    {
     "data": {
      "text/plain": [
       "52002"
      ]
     },
     "execution_count": 83,
     "metadata": {},
     "output_type": "execute_result"
    }
   ],
   "source": [
    "len(data)"
   ]
  },
  {
   "cell_type": "code",
   "execution_count": null,
   "metadata": {},
   "outputs": [],
   "source": []
  }
 ],
 "metadata": {
  "kernelspec": {
   "display_name": "env_alpaca",
   "language": "python",
   "name": "python3"
  },
  "language_info": {
   "codemirror_mode": {
    "name": "ipython",
    "version": 3
   },
   "file_extension": ".py",
   "mimetype": "text/x-python",
   "name": "python",
   "nbconvert_exporter": "python",
   "pygments_lexer": "ipython3",
   "version": "3.10.6"
  },
  "orig_nbformat": 4
 },
 "nbformat": 4,
 "nbformat_minor": 2
}
